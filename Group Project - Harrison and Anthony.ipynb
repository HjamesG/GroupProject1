{
 "cells": [
  {
   "cell_type": "markdown",
   "id": "2aff3818",
   "metadata": {},
   "source": [
    "# Group Project #1\n",
    "### Harrison and Anthony"
   ]
  },
  {
   "attachments": {},
   "cell_type": "markdown",
   "id": "961d86c5",
   "metadata": {},
   "source": [
    "## To-Do List Application: \n",
    "#### Create a simple to-do list application that allows users to add, edit, and delete tasks. You can add features like setting due dates and marking tasks as completed!"
   ]
  },
  {
   "cell_type": "code",
   "execution_count": null,
   "id": "0c056d74",
   "metadata": {},
   "outputs": [
    {
     "name": "stdout",
     "output_type": "stream",
     "text": [
      "\n",
      "\n",
      "To Do List:\n",
      "Your list is empty\n",
      "\n",
      "\n",
      "What would you like to do?\n",
      "\n",
      "Add item [1]\n",
      "Mark completed [2]\n",
      "Remove item [3]\n",
      "Exit [X]\n",
      "\n",
      "What action would you like to do? 1\n"
     ]
    }
   ],
   "source": [
    "toDoList = []\n",
    "\n",
    "def updateScreen():\n",
    "    print(\"\\n\\nTo Do List:\")\n",
    "    \n",
    "    if toDoList == []:\n",
    "        print(\"Your list is empty\")\n",
    "    else:\n",
    "        counter = 0\n",
    "        for i in toDoList:\n",
    "            counter += 1\n",
    "            print(f\"{counter}. {i[1]} @ {i[2]}\\n\")\n",
    "    \n",
    "    print(\"\\n\\nWhat would you like to do?\\n\")\n",
    "    print(\"Add item [1]\")\n",
    "    print(\"Mark completed [2]\")\n",
    "    print(\"Remove item [3]\")\n",
    "    print(\"Exit [X]\")\n",
    "\n",
    "def taskCompleted():\n",
    "    num = int(input(\"What item would you like to mark completed?\"))\n",
    "    toDoList[num-1][0] = True\n",
    "    \n",
    "def addItem():\n",
    "    tempList = []\n",
    "    tempList.append(False)\n",
    "    tempList.append(input(\"What Would you like to add?\"))\n",
    "    tempList.append(input(\"What time is this?\"))\n",
    "    toDoList.append(tempList)\n",
    "    \n",
    "def removeItem():\n",
    "    num = int(input(\"What item would you like to remove?\"))\n",
    "    toDoList.pop(num)\n",
    "\n",
    "    \n",
    "\n",
    "while True:\n",
    "    updateScreen()\n",
    "    usrinput = input(\"\\nWhat action would you like to do? \")\n",
    "    if usrinput == \"1\":\n",
    "        addItem()\n",
    "    elif usrinput == \"2\":\n",
    "        taskCompleted()\n",
    "    elif usrinput == \"3\":\n",
    "        removeItem()\n",
    "    elif usrinput == \"X\":\n",
    "        print(\"\\n\\nGoodbye!\")\n",
    "        break      \n",
    "    else:\n",
    "        print(\"\\nPlease enter a valid input.\\n\")\n",
    "    "
   ]
  },
  {
   "cell_type": "code",
   "execution_count": null,
   "id": "cd0c1dba",
   "metadata": {},
   "outputs": [],
   "source": []
  }
 ],
 "metadata": {
  "kernelspec": {
   "display_name": "Python 3 (ipykernel)",
   "language": "python",
   "name": "python3"
  },
  "language_info": {
   "codemirror_mode": {
    "name": "ipython",
    "version": 3
   },
   "file_extension": ".py",
   "mimetype": "text/x-python",
   "name": "python",
   "nbconvert_exporter": "python",
   "pygments_lexer": "ipython3",
   "version": "3.11.4"
  }
 },
 "nbformat": 4,
 "nbformat_minor": 5
}
